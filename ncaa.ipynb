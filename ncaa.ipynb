{
  "nbformat": 4,
  "nbformat_minor": 0,
  "metadata": {
    "kernelspec": {
      "display_name": "Python 3",
      "language": "python",
      "name": "python3"
    },
    "language_info": {
      "codemirror_mode": {
        "name": "ipython",
        "version": 3
      },
      "file_extension": ".py",
      "mimetype": "text/x-python",
      "name": "python",
      "nbconvert_exporter": "python",
      "pygments_lexer": "ipython3",
      "version": "3.6.7"
    },
    "colab": {
      "name": "ncaa.ipynb",
      "provenance": []
    }
  },
  "cells": [
    {
      "cell_type": "code",
      "metadata": {
        "id": "v7KwDCe0BXAK",
        "colab_type": "code",
        "outputId": "a802b6c5-a349-4cb1-ff98-41814592bf84",
        "colab": {
          "base_uri": "https://localhost:8080/",
          "height": 122
        }
      },
      "source": [
        "from google.colab import drive\n",
        "drive.mount('/content/drive')"
      ],
      "execution_count": 9,
      "outputs": [
        {
          "output_type": "stream",
          "text": [
            "Go to this URL in a browser: https://accounts.google.com/o/oauth2/auth?client_id=947318989803-6bn6qk8qdgf4n4g3pfee6491hc0brc4i.apps.googleusercontent.com&redirect_uri=urn%3aietf%3awg%3aoauth%3a2.0%3aoob&response_type=code&scope=email%20https%3a%2f%2fwww.googleapis.com%2fauth%2fdocs.test%20https%3a%2f%2fwww.googleapis.com%2fauth%2fdrive%20https%3a%2f%2fwww.googleapis.com%2fauth%2fdrive.photos.readonly%20https%3a%2f%2fwww.googleapis.com%2fauth%2fpeopleapi.readonly\n",
            "\n",
            "Enter your authorization code:\n",
            "··········\n",
            "Mounted at /content/drive\n"
          ],
          "name": "stdout"
        }
      ]
    },
    {
      "cell_type": "code",
      "metadata": {
        "id": "2dN5lrsFBQ0s",
        "colab_type": "code",
        "colab": {}
      },
      "source": [
        "import pandas as pd\n",
        "import numpy as np\n",
        "from sklearn.metrics import mean_squared_error, mean_absolute_error, accuracy_score, confusion_matrix, log_loss\n",
        "from sklearn.ensemble import RandomForestClassifier"
      ],
      "execution_count": 0,
      "outputs": []
    },
    {
      "cell_type": "code",
      "metadata": {
        "id": "VTmO7lbXCtlI",
        "colab_type": "code",
        "colab": {}
      },
      "source": [
        "DATA_FOLDER = '/content/drive/My Drive/Colab Notebooks/kaggle/ncaa'"
      ],
      "execution_count": 0,
      "outputs": []
    },
    {
      "cell_type": "code",
      "metadata": {
        "id": "3i0V9MGeBQ0v",
        "colab_type": "code",
        "colab": {}
      },
      "source": [
        "def generate_mapping(data, swap=False):\n",
        "    mapping = {}\n",
        "\n",
        "    for col in data.columns:\n",
        "        val = None\n",
        "\n",
        "        if col == 'WTeamID':\n",
        "            val = 'T1ID' if not swap else 'T2ID'\n",
        "        elif col == 'LTeamID':\n",
        "            val = 'T2ID' if not swap else 'T1ID'\n",
        "        elif col.startswith('W'):\n",
        "            val = col.replace('W', 'T1') if not swap else col.replace('W', 'T2')\n",
        "        elif col.startswith('L'):\n",
        "            val = col.replace('L', 'T2') if not swap else col.replace('L', 'T1')\n",
        "        else:\n",
        "            pass\n",
        "\n",
        "        if val is not None: \n",
        "            mapping[col] = val\n",
        "    \n",
        "    return mapping"
      ],
      "execution_count": 0,
      "outputs": []
    },
    {
      "cell_type": "code",
      "metadata": {
        "id": "9pF674YEBQ0x",
        "colab_type": "code",
        "colab": {}
      },
      "source": [
        "def transform_data(data):\n",
        "    wdata = data.rename(columns=generate_mapping(data))\n",
        "    ldata = data.rename(columns=generate_mapping(data, swap=True))\n",
        "    wdata['Win'] = 1\n",
        "    ldata['Win'] = 0\n",
        "    data = pd.concat([wdata, ldata])\n",
        "    # drop all rows with at least one NaN\n",
        "    data = data.drop(columns=['T1Loc', 'T2Loc'])\n",
        "    data = data.dropna(axis='index')\n",
        "    # transform columns to proper data types\n",
        "    data['Season'] = data['Season'].astype('int64')\n",
        "    data['T1ID'] = data['T1ID'].astype('int64')\n",
        "    data['T2ID'] = data['T2ID'].astype('int64')\n",
        "    return data"
      ],
      "execution_count": 0,
      "outputs": []
    },
    {
      "cell_type": "code",
      "metadata": {
        "id": "NdV_53xEBQ0z",
        "colab_type": "code",
        "colab": {}
      },
      "source": [
        "def train_test_split(data, features):\n",
        "    train = data[(data.Season < 2019)]\n",
        "    test = data[data.Season == 2019]\n",
        "\n",
        "    train_x = train[features]\n",
        "    train_y = train.Win\n",
        "\n",
        "    test_x = test[features]\n",
        "    test_y = test.Win\n",
        "    return (train_x, train_y, test_x, test_y)\n",
        "\n",
        "def train(train_x, train_y):\n",
        "    model = RandomForestClassifier(max_depth=5, random_state=0, n_estimators=200)\n",
        "    model.fit(train_x, train_y)\n",
        "    return model\n",
        "\n",
        "def predict(model, test_x, test_y):\n",
        "    preds = model.predict(test_x)\n",
        "    probs = model.predict_proba(test_x)\n",
        "    mse = mean_squared_error(test_y, preds)\n",
        "    mae = mean_absolute_error(test_y, preds)\n",
        "    accuracy = accuracy_score(test_y, preds)\n",
        "    confusion = confusion_matrix(test_y, preds)\n",
        "    logloss = log_loss(test_y, probs)\n",
        "    \n",
        "    print('MSE: {}'.format(mse))\n",
        "    print('MAE: {}'.format(mae))\n",
        "    print('Accuracy: {}'.format(accuracy))\n",
        "    print('Confusion matrix: {}'.format(confusion))\n",
        "    print('Log loss: {}'.format(logloss))\n",
        "    \n",
        "    return (preds, probs)"
      ],
      "execution_count": 0,
      "outputs": []
    },
    {
      "cell_type": "code",
      "metadata": {
        "id": "1lh4l0WjBQ1D",
        "colab_type": "code",
        "colab": {}
      },
      "source": [
        "def record_exists(src_data, row):\n",
        "    return pd.Series((src_data.T1ID == row.T1ID) & (src_data.T2ID == row.T2ID)).any()"
      ],
      "execution_count": 0,
      "outputs": []
    },
    {
      "cell_type": "code",
      "metadata": {
        "id": "F7WTdBfvBQ1M",
        "colab_type": "code",
        "colab": {}
      },
      "source": [
        "def get_similar_data(row, src_data, feature):\n",
        "    if feature in src_data.columns:\n",
        "      similar_data = src_data[(src_data.Season == row.Season) & (src_data.T1ID == row.T1ID) & (src_data.T2ID == row.T2ID)]\n",
        "      if len(similar_data) == 0:\n",
        "          similar_data = src_data[(src_data.T1ID == row.T1ID) & (src_data.T2ID == row.T2ID)]\n",
        "      if len(similar_data) == 0:\n",
        "          similar_data = src_data[(src_data.T2ID == row.T2ID)] if feature.startswith('T2') else src_data[(src_data.T1ID == row.T1ID)]\n",
        "\n",
        "      return similar_data[feature]\n",
        "    \n",
        "    return pd.Series()\n",
        "\n",
        "def populate_row(row, data_sources, dst_data, feature):\n",
        "    feature_data = pd.Series()\n",
        "\n",
        "    for data_source in data_sources:\n",
        "      similar_data = get_similar_data(row, data_source, feature)\n",
        "      feature_data = pd.concat([feature_data, similar_data])\n",
        "\n",
        "\n",
        "    return feature_data.mean()  \n",
        "\n",
        "def populate_data(data_sources, dst_data, features):\n",
        "    dst_data_c = dst_data.copy()\n",
        "    for feature in features:\n",
        "        if feature not in dst_data_c.columns:\n",
        "            dst_data_c[feature] = dst_data_c.apply(lambda row: populate_row(row, data_sources, dst_data_c, feature), axis=1)\n",
        "    return dst_data_c"
      ],
      "execution_count": 0,
      "outputs": []
    },
    {
      "cell_type": "code",
      "metadata": {
        "id": "LGis9FgSBQ01",
        "colab_type": "code",
        "colab": {}
      },
      "source": [
        "reg_det_data = pd.read_csv(f'{DATA_FOLDER}/WRegularSeasonDetailedResults.csv')\n",
        "reg_comp_data = pd.read_csv(f'{DATA_FOLDER}/WRegularSeasonCompactResults.csv')\n",
        "tourney_det_data = pd.read_csv(f'{DATA_FOLDER}/WNCAATourneyDetailedResults.csv')\n",
        "tourney_comp_data = pd.read_csv(f'{DATA_FOLDER}/WNCAATourneyCompactResults.csv')"
      ],
      "execution_count": 0,
      "outputs": []
    },
    {
      "cell_type": "code",
      "metadata": {
        "id": "utTxdJy6BQ03",
        "colab_type": "code",
        "outputId": "a0ff8b20-2937-43d8-d499-20ee68fa65ab",
        "colab": {
          "base_uri": "https://localhost:8080/",
          "height": 153
        }
      },
      "source": [
        "reg_det_data_t = transform_data(reg_det_data)\n",
        "tourney_det_data_t = transform_data(tourney_det_data)\n",
        "reg_comp_data_t = transform_data(reg_comp_data)\n",
        "tourney_comp_data_t = transform_data(tourney_comp_data)"
      ],
      "execution_count": 41,
      "outputs": [
        {
          "output_type": "stream",
          "text": [
            "/usr/local/lib/python3.6/dist-packages/ipykernel_launcher.py:6: FutureWarning: Sorting because non-concatenation axis is not aligned. A future version\n",
            "of pandas will change to not sort by default.\n",
            "\n",
            "To accept the future behavior, pass 'sort=False'.\n",
            "\n",
            "To retain the current behavior and silence the warning, pass 'sort=True'.\n",
            "\n",
            "  \n"
          ],
          "name": "stderr"
        }
      ]
    },
    {
      "cell_type": "code",
      "metadata": {
        "id": "UFKKIkY2FHlW",
        "colab_type": "code",
        "colab": {}
      },
      "source": [
        "total_data = pd.concat([reg_det_data_t, tourney_det_data_t], axis=0)"
      ],
      "execution_count": 0,
      "outputs": []
    },
    {
      "cell_type": "code",
      "metadata": {
        "id": "hK_EjaoNmx8b",
        "colab_type": "code",
        "colab": {}
      },
      "source": [
        "features = list(set(total_data.columns) - set(['Win', 'Season', 'DayNum']))\n",
        "float_features = list(set(features) - set(['T1ID', 'T2ID']))\n",
        "\n",
        "for feature in float_features:\n",
        "  total_data[feature] = total_data[feature].astype('float64')"
      ],
      "execution_count": 0,
      "outputs": []
    },
    {
      "cell_type": "code",
      "metadata": {
        "id": "MvUK__qrFj8n",
        "colab_type": "code",
        "colab": {}
      },
      "source": [
        "train_x, train_y, test_x, test_y = train_test_split(total_data, features)"
      ],
      "execution_count": 0,
      "outputs": []
    },
    {
      "cell_type": "code",
      "metadata": {
        "id": "e7pEdrd2GJTG",
        "colab_type": "code",
        "colab": {}
      },
      "source": [
        "model = train(train_x, train_y)"
      ],
      "execution_count": 0,
      "outputs": []
    },
    {
      "cell_type": "code",
      "metadata": {
        "id": "s51UNMgZGMGI",
        "colab_type": "code",
        "outputId": "d65995cf-515c-4106-cf47-3e959f7a9254",
        "colab": {
          "base_uri": "https://localhost:8080/",
          "height": 119
        }
      },
      "source": [
        "preds, probs = predict(model, test_x, test_y)"
      ],
      "execution_count": 61,
      "outputs": [
        {
          "output_type": "stream",
          "text": [
            "MSE: 0.03234732824427481\n",
            "MAE: 0.03234732824427481\n",
            "Accuracy: 0.9676526717557252\n",
            "Confusion matrix: [[5073  167]\n",
            " [ 172 5068]]\n",
            "Log loss: 0.26486876705803747\n"
          ],
          "name": "stdout"
        }
      ]
    },
    {
      "cell_type": "code",
      "metadata": {
        "id": "jRMGesTeso8j",
        "colab_type": "code",
        "colab": {
          "base_uri": "https://localhost:8080/",
          "height": 544
        },
        "outputId": "8cd2ea1e-ae5c-4639-8031-91b788262db7"
      },
      "source": [
        "sorted(list(zip(train_x.columns, model.feature_importances_)), key=lambda t: t[1])"
      ],
      "execution_count": 62,
      "outputs": [
        {
          "output_type": "execute_result",
          "data": {
            "text/plain": [
              "[('T1OR', 0.0),\n",
              " ('T2OR', 4.818359833713286e-07),\n",
              " ('T2ID', 1.7601812413682168e-06),\n",
              " ('T1ID', 2.4712002026378974e-06),\n",
              " ('T2FGA3', 2.9028974234939006e-05),\n",
              " ('T1FGA3', 0.0001010669236623396),\n",
              " ('T1Blk', 0.0001581316843938414),\n",
              " ('NumOT', 0.00039601260578857827),\n",
              " ('T2Blk', 0.0003972165781300794),\n",
              " ('T2FGA', 0.0009257383578958404),\n",
              " ('T1FGA', 0.0012211418223881598),\n",
              " ('T1Stl', 0.0019471345649651013),\n",
              " ('T2Stl', 0.0020814122617121298),\n",
              " ('T2TO', 0.0028729596275681767),\n",
              " ('T1TO', 0.002912109444225256),\n",
              " ('T1FGM3', 0.003096608584296594),\n",
              " ('T2FGM3', 0.0032435485211716624),\n",
              " ('T2PF', 0.00660628989852077),\n",
              " ('T1PF', 0.010987638571654327),\n",
              " ('T2FTA', 0.020804650741859523),\n",
              " ('T1FTA', 0.02138084480182391),\n",
              " ('T1FTM', 0.027797950087596238),\n",
              " ('T1DR', 0.028559493306459603),\n",
              " ('T2FTM', 0.03405685235915444),\n",
              " ('T2DR', 0.03767878407374024),\n",
              " ('T1Ast', 0.05553040721556849),\n",
              " ('T2Ast', 0.06666630094577575),\n",
              " ('T1FGM', 0.09539271032953167),\n",
              " ('T2FGM', 0.11861055179570944),\n",
              " ('T2Score', 0.2072535822451385),\n",
              " ('T1Score', 0.24928712045960708)]"
            ]
          },
          "metadata": {
            "tags": []
          },
          "execution_count": 62
        }
      ]
    },
    {
      "cell_type": "code",
      "metadata": {
        "id": "g9QzWbLml2Ny",
        "colab_type": "code",
        "outputId": "4b16aee6-5d96-4388-94f6-e75da4a784ac",
        "colab": {
          "base_uri": "https://localhost:8080/",
          "height": 34
        }
      },
      "source": [
        "s_data = pd.read_csv(f'{DATA_FOLDER}/WSampleSubmissionStage2.csv')\n",
        "\n",
        "s_data_t = s_data.copy()\n",
        "s_data_t['Season'] = s_data_t['ID'].apply(lambda id: id.split('_')[0])\n",
        "s_data_t['T1ID'] = s_data_t['ID'].apply(lambda id: id.split('_')[1])\n",
        "s_data_t['T2ID'] = s_data_t['ID'].apply(lambda id: id.split('_')[2])\n",
        "s_data_t['Season'] = s_data_t['Season'].astype('int64')\n",
        "s_data_t['T1ID'] = s_data_t['T1ID'].astype('int64')\n",
        "s_data_t['T2ID'] = s_data_t['T2ID'].astype('int64')\n",
        "existing_data = s_data_t[s_data_t.apply(lambda row: record_exists(total_data, row), axis=1)]\n",
        "print(f'number of missing records: {len(s_data_exp) - len(existing_data)}')"
      ],
      "execution_count": 44,
      "outputs": [
        {
          "output_type": "stream",
          "text": [
            "number of missing records: 1339\n"
          ],
          "name": "stdout"
        }
      ]
    },
    {
      "cell_type": "code",
      "metadata": {
        "id": "zxS2Iuag75bF",
        "colab_type": "code",
        "colab": {}
      },
      "source": [
        "s_data_p = populate_data([total_data, reg_comp_data_t, tourney_comp_data_t], s_data_t, features)"
      ],
      "execution_count": 0,
      "outputs": []
    },
    {
      "cell_type": "code",
      "metadata": {
        "id": "yRGi_KC_GWc4",
        "colab_type": "code",
        "colab": {}
      },
      "source": [
        "test_preds = model.predict(s_data_p[features])"
      ],
      "execution_count": 0,
      "outputs": []
    },
    {
      "cell_type": "code",
      "metadata": {
        "id": "0G9ZAlBy3WGZ",
        "colab_type": "code",
        "colab": {
          "base_uri": "https://localhost:8080/",
          "height": 34
        },
        "outputId": "d1dc3f1b-3d58-4173-dec0-e237cda85cd5"
      },
      "source": [
        "test_preds.sum()"
      ],
      "execution_count": 75,
      "outputs": [
        {
          "output_type": "execute_result",
          "data": {
            "text/plain": [
              "987"
            ]
          },
          "metadata": {
            "tags": []
          },
          "execution_count": 75
        }
      ]
    },
    {
      "cell_type": "code",
      "metadata": {
        "id": "cD0m6O0PG8k5",
        "colab_type": "code",
        "colab": {}
      },
      "source": [
        "test_probs = model.predict_proba(s_data_p[features])"
      ],
      "execution_count": 0,
      "outputs": []
    },
    {
      "cell_type": "code",
      "metadata": {
        "id": "_noeD24ZHbFf",
        "colab_type": "code",
        "colab": {}
      },
      "source": [
        "s_data_p['Pred'] = list(map(lambda p: p[1], test_probs))"
      ],
      "execution_count": 0,
      "outputs": []
    },
    {
      "cell_type": "code",
      "metadata": {
        "id": "X1NxEj2ZH_QM",
        "colab_type": "code",
        "outputId": "f3b9c451-93f6-4062-c8e5-e301ba74ac6c",
        "colab": {
          "base_uri": "https://localhost:8080/",
          "height": 221
        }
      },
      "source": [
        "s_data_p['Pred']"
      ],
      "execution_count": 78,
      "outputs": [
        {
          "output_type": "execute_result",
          "data": {
            "text/plain": [
              "0       0.697634\n",
              "1       0.841407\n",
              "2       0.742942\n",
              "3       0.030861\n",
              "4       0.545935\n",
              "          ...   \n",
              "2011    0.102375\n",
              "2012    0.451386\n",
              "2013    0.234762\n",
              "2014    0.132152\n",
              "2015    0.620433\n",
              "Name: Pred, Length: 2016, dtype: float64"
            ]
          },
          "metadata": {
            "tags": []
          },
          "execution_count": 78
        }
      ]
    },
    {
      "cell_type": "code",
      "metadata": {
        "id": "DY2Frfb9IB2j",
        "colab_type": "code",
        "colab": {}
      },
      "source": [
        "submission_df = s_data_p[['ID', 'Pred']]"
      ],
      "execution_count": 0,
      "outputs": []
    },
    {
      "cell_type": "code",
      "metadata": {
        "id": "ZDdAsc-3IQNY",
        "colab_type": "code",
        "colab": {}
      },
      "source": [
        "submission_df.to_csv(f'{DATA_FOLDER}/stage2_submission5.csv', index=False)"
      ],
      "execution_count": 0,
      "outputs": []
    },
    {
      "cell_type": "code",
      "metadata": {
        "id": "C5_dcrfVrw_a",
        "colab_type": "code",
        "colab": {}
      },
      "source": [
        ""
      ],
      "execution_count": 0,
      "outputs": []
    }
  ]
}